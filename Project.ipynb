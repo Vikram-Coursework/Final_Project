{
  "cells": [
    {
      "cell_type": "markdown",
      "metadata": {
        "id": "view-in-github",
        "colab_type": "text"
      },
      "source": [
        "<a href=\"https://colab.research.google.com/github/Vikram-Coursework/Final_Project/blob/main/Project.ipynb\" target=\"_parent\"><img src=\"https://colab.research.google.com/assets/colab-badge.svg\" alt=\"Open In Colab\"/></a>"
      ]
    },
    {
      "cell_type": "markdown",
      "metadata": {
        "id": "jla-Slg1aauT"
      },
      "source": [
        "# Final Project\n",
        "\n",
        "Using Convolutional Neural Network (CNN), from the Covid-19 Image Dataset Predict whether it's Covid, Normal or Viral Pnenumonia. \n",
        "\n",
        "Covid Dataset can be downloaded here: https://drive.google.com/drive/folders/1YPmEaCZN2ZwRd8kK81sNUbcu_fm22yop?usp=sharing\n",
        "\n",
        "\n",
        "      \n",
        "## Importing Python Libraries"
      ]
    },
    {
      "cell_type": "code",
      "execution_count": 1,
      "metadata": {
        "colab": {
          "base_uri": "https://localhost:8080/"
        },
        "id": "LPQ6py3Zaaub",
        "outputId": "c8b4a0c9-4997-4c88-ab95-3f20f6cfc5a8"
      },
      "outputs": [
        {
          "output_type": "stream",
          "name": "stdout",
          "text": [
            "Mounted at /content/gdrive\n"
          ]
        }
      ],
      "source": [
        "%matplotlib inline\n",
        "import matplotlib.pylab as plt\n",
        "\n",
        "import cv2\n",
        "import PIL.Image as Image\n",
        "\n",
        "import numpy as  np\n",
        "import tensorflow as tf\n",
        "from tensorflow.keras.utils import to_categorical # Function to convert labels to one-hot encoding\n",
        "from tensorflow.keras.models import Model \n",
        "from tensorflow.keras.layers import Dense, Activation,Input \n",
        "from google.colab import drive\n",
        "drive.mount('/content/gdrive')\n"
      ]
    },
    {
      "cell_type": "markdown",
      "metadata": {
        "id": "Tx3KdMnHaaue"
      },
      "source": [
        "##  Load covid dataset"
      ]
    },
    {
      "cell_type": "code",
      "execution_count": 2,
      "metadata": {
        "colab": {
          "base_uri": "https://localhost:8080/"
        },
        "id": "E_iX61MRaaue",
        "outputId": "27420877-d07e-4b3a-9843-ad5d6d552ad5"
      },
      "outputs": [
        {
          "output_type": "stream",
          "name": "stdout",
          "text": [
            "/content/gdrive/MyDrive/Data/Covid19-dataset\n",
            "<class 'pathlib.PosixPath'>\n",
            "251\n"
          ]
        }
      ],
      "source": [
        "data_dir = '/content/gdrive/MyDrive/Data/Covid19-dataset'\n",
        "print(data_dir)\n",
        "\n",
        "import pathlib\n",
        "data_dir = pathlib.Path(data_dir)\n",
        "data_dir\n",
        "print(type(data_dir))\n",
        "\n",
        "image_count = len(list(data_dir.glob('*/*.jpg')))\n",
        "print(image_count)"
      ]
    },
    {
      "cell_type": "code",
      "execution_count": 3,
      "metadata": {
        "id": "-td1W41waaug"
      },
      "outputs": [],
      "source": [
        "# Create the dictionary for the covid images\n",
        "\n",
        "covid_images_dict = {\n",
        "    'Covid': list(data_dir.glob('Covid/*')),\n",
        "    'Normal': list(data_dir.glob('Normal/*')),\n",
        "    'Viral Pneumonia': list(data_dir.glob('Viral Pneumonia/*')),\n",
        "}"
      ]
    },
    {
      "cell_type": "code",
      "execution_count": 4,
      "metadata": {
        "id": "YD8hXJeVaaui"
      },
      "outputs": [],
      "source": [
        "covid_labels_dict = {\n",
        "    'Covid': 0,\n",
        "    'Normal': 1,\n",
        "    'Viral Pneumonia': 2,\n",
        "}"
      ]
    },
    {
      "cell_type": "code",
      "execution_count": 5,
      "metadata": {
        "id": "nXgp0B0vaaui"
      },
      "outputs": [],
      "source": [
        "X, y = [], []\n",
        "\n",
        "for covid_name, images in covid_images_dict.items():\n",
        "    for image in images:\n",
        "        img = cv2.imread(str(image))\n",
        "        resized_img = cv2.resize(img,(224,224))\n",
        "        X.append(resized_img)\n",
        "        y.append(covid_labels_dict[covid_name])"
      ]
    },
    {
      "cell_type": "code",
      "execution_count": 6,
      "metadata": {
        "id": "ZPN3TO6caauj"
      },
      "outputs": [],
      "source": [
        "X = np.array(X)\n",
        "y = np.array(y)"
      ]
    },
    {
      "cell_type": "markdown",
      "metadata": {
        "id": "BtjJkfxnaauj"
      },
      "source": [
        "## Train test split"
      ]
    },
    {
      "cell_type": "code",
      "execution_count": 7,
      "metadata": {
        "id": "uHSKSAXXaauk"
      },
      "outputs": [],
      "source": [
        "from sklearn.model_selection import train_test_split\n",
        "\n",
        "X_train, X_test, y_train, y_test = train_test_split(\n",
        "    X, y, test_size=0.2, random_state=1)\n",
        "\n",
        "X_train, X_val, y_train, y_val = train_test_split(\n",
        "    X_train, y_train, test_size=0.25, random_state=1)"
      ]
    },
    {
      "cell_type": "markdown",
      "metadata": {
        "id": "68MSvW-taaul"
      },
      "source": [
        "# Representing Labels using one-hot-encoding"
      ]
    },
    {
      "cell_type": "code",
      "execution_count": 8,
      "metadata": {
        "colab": {
          "base_uri": "https://localhost:8080/"
        },
        "id": "d7f5xTLqaaum",
        "outputId": "e7e833e4-a879-4ce5-eb7f-dd7e856f13cf"
      },
      "outputs": [
        {
          "output_type": "stream",
          "name": "stdout",
          "text": [
            "Y_train[:5]:\n",
            "[0 0 1 1 0]\n",
            "\n",
            "Y_oh_train[:5]=\n",
            "[[1. 0. 0.]\n",
            " [1. 0. 0.]\n",
            " [0. 1. 0.]\n",
            " [0. 1. 0.]\n",
            " [1. 0. 0.]]\n"
          ]
        }
      ],
      "source": [
        "k = np.unique(y).size\n",
        "\n",
        "Y_oh_train = to_categorical(y_train, k) \n",
        "Y_oh_val = to_categorical(y_val, k) \n",
        "Y_oh_test = to_categorical(y_test, k)\n",
        "# Displaying the 5 first elemnts\n",
        "print('Y_train[:5]:')\n",
        "print(y_train[:5])\n",
        "print('\\nY_oh_train[:5]=')\n",
        "print(Y_oh_train[:5])"
      ]
    },
    {
      "cell_type": "markdown",
      "metadata": {
        "id": "mcmjEOKfaaun"
      },
      "source": [
        "## Preprocessing: scale images"
      ]
    },
    {
      "cell_type": "code",
      "execution_count": 9,
      "metadata": {
        "id": "3fhO80apaauy"
      },
      "outputs": [],
      "source": [
        "X_train_scaled = X_train / 255\n",
        "X_val_scaled = X_val /255\n",
        "X_test_scaled = X_test / 255"
      ]
    },
    {
      "cell_type": "markdown",
      "metadata": {
        "id": "i1h_F1f_aau6"
      },
      "source": [
        "## develop a Convolutional Neural Network and train & test the covid data"
      ]
    },
    {
      "cell_type": "code",
      "execution_count": 10,
      "metadata": {
        "id": "gPve0MK5aau7"
      },
      "outputs": [],
      "source": [
        "# created a convolutional neural network model with 8 layers (1 input layer, 3 convolutional layers, \n",
        "# 2 dropout layers, 1 max pooling layer, 1 output layer)\n",
        "\n",
        "def my_CNN_Model(my_shape = (224,224,3),k = 3, lr = 1e-4):\n",
        "        \n",
        "    model_input = tf.keras.layers.Input(shape = my_shape)\n",
        "    l1 = tf.keras.layers.Conv2D(48, (3,3), padding='same', activation='relu')(model_input)\n",
        "    l2 = tf.keras.layers.Conv2D(48, (3,3), padding='same', activation='relu')(l1)\n",
        "    l2_drop = tf.keras.layers.Dropout(0.25)(l2)\n",
        "    l3 = tf.keras.layers.MaxPool2D((2,2))(l2_drop)\n",
        "    l4 = tf.keras.layers.Conv2D(96, (3,3), padding='same', activation='relu')(l3)\n",
        "    l4_drop = tf.keras.layers.Dropout(0.25)(l4)\n",
        "    flat = tf.keras.layers.Flatten()(l4_drop)\n",
        "    out = tf.keras.layers.Dense(k,activation = 'softmax')(flat)\n",
        "    model = tf.keras.models.Model(inputs = model_input, outputs = out)\n",
        "    model.compile(optimizer=tf.keras.optimizers.Adam(learning_rate=lr), loss=tf.keras.losses.CategoricalCrossentropy(), metrics = [\"accuracy\"])\n",
        "    return model\n"
      ]
    },
    {
      "cell_type": "code",
      "execution_count": 11,
      "metadata": {
        "colab": {
          "base_uri": "https://localhost:8080/"
        },
        "id": "CIIO_Kbjaau7",
        "outputId": "f3393724-ea12-4d28-a447-dda5f5804339"
      },
      "outputs": [
        {
          "output_type": "stream",
          "name": "stdout",
          "text": [
            "Model: \"model\"\n",
            "_________________________________________________________________\n",
            " Layer (type)                Output Shape              Param #   \n",
            "=================================================================\n",
            " input_1 (InputLayer)        [(None, 224, 224, 3)]     0         \n",
            "                                                                 \n",
            " conv2d (Conv2D)             (None, 224, 224, 48)      1344      \n",
            "                                                                 \n",
            " conv2d_1 (Conv2D)           (None, 224, 224, 48)      20784     \n",
            "                                                                 \n",
            " dropout (Dropout)           (None, 224, 224, 48)      0         \n",
            "                                                                 \n",
            " max_pooling2d (MaxPooling2D  (None, 112, 112, 48)     0         \n",
            " )                                                               \n",
            "                                                                 \n",
            " conv2d_2 (Conv2D)           (None, 112, 112, 96)      41568     \n",
            "                                                                 \n",
            " dropout_1 (Dropout)         (None, 112, 112, 96)      0         \n",
            "                                                                 \n",
            " flatten (Flatten)           (None, 1204224)           0         \n",
            "                                                                 \n",
            " dense (Dense)               (None, 3)                 3612675   \n",
            "                                                                 \n",
            "=================================================================\n",
            "Total params: 3,676,371\n",
            "Trainable params: 3,676,371\n",
            "Non-trainable params: 0\n",
            "_________________________________________________________________\n",
            "None\n"
          ]
        }
      ],
      "source": [
        "model = my_CNN_Model()\n",
        "print(model.summary())"
      ]
    },
    {
      "cell_type": "code",
      "execution_count": 12,
      "metadata": {
        "colab": {
          "base_uri": "https://localhost:8080/"
        },
        "id": "7MALlqn-aau8",
        "outputId": "2da21106-a794-415c-9101-aeb8848bd87e"
      },
      "outputs": [
        {
          "output_type": "stream",
          "name": "stdout",
          "text": [
            "Epoch 1/20\n",
            "5/5 [==============================] - 12s 664ms/step - loss: 509.6342 - accuracy: 0.3467 - val_loss: 203.9093 - val_accuracy: 0.4200\n",
            "Epoch 2/20\n",
            "5/5 [==============================] - 1s 166ms/step - loss: 129.3340 - accuracy: 0.5800 - val_loss: 110.3973 - val_accuracy: 0.3200\n",
            "Epoch 3/20\n",
            "5/5 [==============================] - 1s 168ms/step - loss: 65.6027 - accuracy: 0.5933 - val_loss: 32.0795 - val_accuracy: 0.6600\n",
            "Epoch 4/20\n",
            "5/5 [==============================] - 1s 186ms/step - loss: 30.4772 - accuracy: 0.7133 - val_loss: 14.1069 - val_accuracy: 0.6800\n",
            "Epoch 5/20\n",
            "5/5 [==============================] - 1s 165ms/step - loss: 15.9215 - accuracy: 0.7733 - val_loss: 8.7257 - val_accuracy: 0.8400\n",
            "Epoch 6/20\n",
            "5/5 [==============================] - 1s 166ms/step - loss: 3.7845 - accuracy: 0.9333 - val_loss: 2.1542 - val_accuracy: 0.9000\n",
            "Epoch 7/20\n",
            "5/5 [==============================] - 1s 165ms/step - loss: 4.8329 - accuracy: 0.8867 - val_loss: 2.4096 - val_accuracy: 0.9000\n",
            "Epoch 8/20\n",
            "5/5 [==============================] - 1s 165ms/step - loss: 1.5453 - accuracy: 0.9533 - val_loss: 1.3548 - val_accuracy: 0.9400\n",
            "Epoch 9/20\n",
            "5/5 [==============================] - 1s 165ms/step - loss: 0.6923 - accuracy: 0.9733 - val_loss: 2.6872 - val_accuracy: 0.9000\n",
            "Epoch 10/20\n",
            "5/5 [==============================] - 1s 168ms/step - loss: 0.5750 - accuracy: 0.9733 - val_loss: 3.0563 - val_accuracy: 0.8800\n",
            "Epoch 11/20\n",
            "5/5 [==============================] - 1s 165ms/step - loss: 0.0731 - accuracy: 0.9867 - val_loss: 1.4099 - val_accuracy: 0.9400\n",
            "Epoch 12/20\n",
            "5/5 [==============================] - 1s 166ms/step - loss: 0.0030 - accuracy: 1.0000 - val_loss: 1.3844 - val_accuracy: 0.9400\n",
            "Epoch 13/20\n",
            "5/5 [==============================] - 1s 167ms/step - loss: 5.6447e-04 - accuracy: 1.0000 - val_loss: 1.4082 - val_accuracy: 0.9400\n",
            "Epoch 14/20\n",
            "5/5 [==============================] - 1s 166ms/step - loss: 1.4761e-04 - accuracy: 1.0000 - val_loss: 1.4377 - val_accuracy: 0.9400\n",
            "Epoch 15/20\n",
            "5/5 [==============================] - 1s 166ms/step - loss: 1.8223e-05 - accuracy: 1.0000 - val_loss: 1.4692 - val_accuracy: 0.9400\n",
            "Epoch 16/20\n",
            "5/5 [==============================] - 1s 166ms/step - loss: 1.3365e-05 - accuracy: 1.0000 - val_loss: 1.4948 - val_accuracy: 0.9400\n",
            "Epoch 17/20\n",
            "5/5 [==============================] - 1s 167ms/step - loss: 6.2568e-06 - accuracy: 1.0000 - val_loss: 1.5108 - val_accuracy: 0.9400\n",
            "Epoch 18/20\n",
            "5/5 [==============================] - 1s 168ms/step - loss: 0.0012 - accuracy: 1.0000 - val_loss: 1.5141 - val_accuracy: 0.9400\n",
            "Epoch 19/20\n",
            "5/5 [==============================] - 1s 167ms/step - loss: 1.5895e-09 - accuracy: 1.0000 - val_loss: 1.5095 - val_accuracy: 0.9400\n",
            "Epoch 20/20\n",
            "5/5 [==============================] - 1s 165ms/step - loss: 1.5895e-08 - accuracy: 1.0000 - val_loss: 1.5170 - val_accuracy: 0.9400\n"
          ]
        }
      ],
      "source": [
        "my_epochs = 20\n",
        "\n",
        "history = model.fit(X_train, Y_oh_train, validation_data=(X_val,Y_oh_val), \\\n",
        "                      epochs=my_epochs,verbose=1)"
      ]
    },
    {
      "cell_type": "code",
      "execution_count": 13,
      "metadata": {
        "id": "1-_DKBuzaau-",
        "colab": {
          "base_uri": "https://localhost:8080/"
        },
        "outputId": "73b8c83b-f77f-4bbf-ba53-2f0d7070cd59"
      },
      "outputs": [
        {
          "output_type": "stream",
          "name": "stdout",
          "text": [
            "2/2 [==============================] - 1s 594ms/step - loss: 0.8900 - accuracy: 0.9608\n",
            "[0.88997483253479, 0.9607843160629272]\n"
          ]
        }
      ],
      "source": [
        "test_accuracy = model.evaluate(X_test_scaled,Y_oh_test)\n",
        "print(test_accuracy)"
      ]
    },
    {
      "cell_type": "code",
      "source": [
        "loss = model.evaluate(X_test, Y_oh_test, verbose=0)\n",
        "print('Final loss (cross-entropy and accuracy):',loss)\n",
        "print()\n",
        "\n",
        "plt.plot(history.history['loss'], label = \"Train loss\")\n",
        "plt.plot(history.history['val_loss'], label = \"Val loss\")\n",
        "plt.xlabel(\"Epoch (iteration)\")\n",
        "plt.ylabel(\"Loss\")\n",
        "plt.legend()\n",
        "plt.grid()\n",
        "plt.show()\n",
        "\n",
        "\n",
        "plt.plot(history.history['accuracy'], label = \"Train accuarcy\")\n",
        "plt.plot(history.history['val_accuracy'], label = \"Val accuarcy\")\n",
        "plt.xlabel(\"Epoch (iteration)\")\n",
        "plt.ylabel(\"Loss\")\n",
        "plt.legend()\n",
        "plt.grid()\n",
        "plt.show()\n"
      ],
      "metadata": {
        "colab": {
          "base_uri": "https://localhost:8080/",
          "height": 576
        },
        "id": "7KMMHDD08O4K",
        "outputId": "92524127-05b7-4797-c2aa-195e833ed64a"
      },
      "execution_count": 14,
      "outputs": [
        {
          "output_type": "stream",
          "name": "stdout",
          "text": [
            "Final loss (cross-entropy and accuracy): [1.583847165107727, 0.9607843160629272]\n",
            "\n"
          ]
        },
        {
          "output_type": "display_data",
          "data": {
            "text/plain": [
              "<Figure size 432x288 with 1 Axes>"
            ],
            "image/png": "[encoded data removed]"
          },
          "metadata": {
            "needs_background": "light"
          }
        },
        {
          "output_type": "display_data",
          "data": {
            "text/plain": [
              "<Figure size 432x288 with 1 Axes>"
            ],
            "image/png": "[encoded data removed]"
          },
          "metadata": {
            "needs_background": "light"
          }
        }
      ]
    },
    {
      "cell_type": "code",
      "execution_count": 15,
      "metadata": {
        "id": "BoxgP_FgYDAQ",
        "colab": {
          "base_uri": "https://localhost:8080/",
          "height": 248
        },
        "outputId": "d20d0918-f74d-493a-e657-24a6a12560f1"
      },
      "outputs": [
        {
          "output_type": "display_data",
          "data": {
            "text/plain": [
              "<Figure size 432x288 with 1 Axes>"
            ],
            "image/png": "[encoded data removed]"
          },
          "metadata": {
            "needs_background": "light"
          }
        }
      ],
      "source": [
        "# choose an image from the testing dataset for testing\n",
        "\n",
        "import matplotlib.pylab as plt\n",
        "\n",
        "testing_image = X_test_scaled[15]\n",
        "plt.axis('off')\n",
        "plt.imshow(testing_image)\n",
        "\n",
        "testing_image = testing_image[np.newaxis, ...]"
      ]
    },
    {
      "cell_type": "code",
      "execution_count": 16,
      "metadata": {
        "id": "t8z0oCk8aau_",
        "colab": {
          "base_uri": "https://localhost:8080/"
        },
        "outputId": "2d25a8ef-fbb5-45c3-b79a-441a03e69e91"
      },
      "outputs": [
        {
          "output_type": "stream",
          "name": "stdout",
          "text": [
            "1/1 [==============================] - 0s 224ms/step\n",
            "The predicted label for this image is:  Covid\n"
          ]
        }
      ],
      "source": [
        "prediction = model.predict(testing_image)\n",
        "\n",
        "labels = list(covid_labels_dict.keys())\n",
        "\n",
        "predicted_label =labels[np.argmax(prediction)]\n",
        "print(\"The predicted label for this image is: \", predicted_label)"
      ]
    }
  ],
  "metadata": {
    "accelerator": "GPU",
    "colab": {
      "provenance": [],
      "include_colab_link": true
    },
    "gpuClass": "standard",
    "kernelspec": {
      "display_name": "Python 3",
      "language": "python",
      "name": "python3"
    },
    "language_info": {
      "codemirror_mode": {
        "name": "ipython",
        "version": 3
      },
      "file_extension": ".py",
      "mimetype": "text/x-python",
      "name": "python",
      "nbconvert_exporter": "python",
      "pygments_lexer": "ipython3",
      "version": "3.8.8"
    }
  },
  "nbformat": 4,
  "nbformat_minor": 0
}